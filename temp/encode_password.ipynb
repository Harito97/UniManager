{
 "cells": [
  {
   "cell_type": "code",
   "execution_count": 4,
   "metadata": {},
   "outputs": [
    {
     "name": "stdout",
     "output_type": "stream",
     "text": [
      "Mật khẩu sau khi mã hóa: b'$2b$12$Udgbyxbk0dvqEteQ82TONOtyI9V3D2Feb7kdoED7Eb1uiPM/X7C8e'\n",
      "Mật khẩu sau khi mã hóa: b'$2b$12$BgBol6cOkz/D1f7zQ/2/5e4fQ2dbAL2bVECTTaYKtT.jykzBZt386'\n",
      "Mật khẩu sau khi mã hóa: b'$2b$12$7Bbx5AvwqvqCRssUyr8kxu2Du29TH.hPm37skHYNUdlpz3uD/SYlC'\n"
     ]
    }
   ],
   "source": [
    "import bcrypt\n",
    "\n",
    "# Lấy thông tin mật khẩu mới từ người dùng\n",
    "new_password = [\"abcdefgh\", \"012345\", \"88888\"]\n",
    "hashed_password = []\n",
    "# Sử dụng bcrypt để mã hóa mật khẩu mới\n",
    "for password in new_password:\n",
    "    hashed_password.append(bcrypt.hashpw(password.encode('utf8'), bcrypt.gensalt()))\n",
    "\n",
    "# In ra mật khẩu đã được mã hóa\n",
    "for password in hashed_password:\n",
    "    print(\"Mật khẩu sau khi mã hóa:\", password)\n"
   ]
  }
 ],
 "metadata": {
  "kernelspec": {
   "display_name": "py",
   "language": "python",
   "name": "python3"
  },
  "language_info": {
   "codemirror_mode": {
    "name": "ipython",
    "version": 3
   },
   "file_extension": ".py",
   "mimetype": "text/x-python",
   "name": "python",
   "nbconvert_exporter": "python",
   "pygments_lexer": "ipython3",
   "version": "3.11.6"
  }
 },
 "nbformat": 4,
 "nbformat_minor": 2
}
