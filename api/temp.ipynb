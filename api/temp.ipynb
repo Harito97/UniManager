{
 "cells": [
  {
   "cell_type": "code",
   "execution_count": 1,
   "metadata": {},
   "outputs": [],
   "source": [
    "from connect_db import ConnectDatabase\n",
    "connect = ConnectDatabase()"
   ]
  },
  {
   "cell_type": "code",
   "execution_count": 2,
   "metadata": {},
   "outputs": [
    {
     "name": "stdout",
     "output_type": "stream",
     "text": [
      "[{'id_hp': 'HIS1001', 'id_lp': 'LT'}, {'id_hp': 'MAT2317', 'id_lp': 'LT'}, {'id_hp': 'MAT2317', 'id_lp': 'PM'}, {'id_hp': 'MAT3148', 'id_lp': 'LT'}, {'id_hp': 'MAT3148', 'id_lp': 'PM'}, {'id_hp': 'MAT3372', 'id_lp': 'LT'}, {'id_hp': 'MAT3372', 'id_lp': 'PM'}, {'id_hp': 'MAT3378', 'id_lp': 'LT'}, {'id_hp': 'MAT3378', 'id_lp': 'PM'}, {'id_hp': 'MAT3379', 'id_lp': 'LT'}, {'id_hp': 'MAT3379', 'id_lp': 'PM'}, {'id_hp': 'MAT3500', 'id_lp': 'LT'}, {'id_hp': 'MAT3505', 'id_lp': 'LT'}, {'id_hp': 'MAT3505', 'id_lp': 'PM'}, {'id_hp': 'MAT3507', 'id_lp': 'LT'}, {'id_hp': 'MAT3507', 'id_lp': 'PM'}, {'id_hp': 'MAT3514', 'id_lp': 'LT'}, {'id_hp': 'MAT3514', 'id_lp': 'PM'}, {'id_hp': 'MAT3533', 'id_lp': 'LT'}, {'id_hp': 'MAT3533', 'id_lp': 'PM'}, {'id_hp': 'MAT3541E', 'id_lp': 'LT'}, {'id_hp': 'MAT3541E', 'id_lp': 'PM'}, {'id_hp': 'MAT3550E', 'id_lp': 'LT'}, {'id_hp': 'MAT3550E', 'id_lp': 'PM'}, {'id_hp': 'MAT3557', 'id_lp': 'LT'}, {'id_hp': 'MAT3557', 'id_lp': 'PM'}, {'id_hp': 'MAT3558', 'id_lp': 'LT'}, {'id_hp': 'MAT3558', 'id_lp': 'PM'}, {'id_hp': 'PEC1008', 'id_lp': 'LT'}, {'id_hp': 'PHI1002', 'id_lp': 'LT'}, {'id_hp': 'PHI1006', 'id_lp': 'LT'}, {'id_hp': 'POL1001', 'id_lp': 'LT'}]\n"
     ]
    }
   ],
   "source": [
    "connect.cursor.execute(\"\"\"SELECT * FROM HP_LP\"\"\")\n",
    "data = connect.cursor.fetchall()\n",
    "print(data)"
   ]
  },
  {
   "cell_type": "code",
   "execution_count": null,
   "metadata": {},
   "outputs": [],
   "source": [
    "from data_structure import * \n",
    "# Chuyển đổi dữ liệu thành các đối tượng HP_LP\n",
    "hp_lp_objects = [HP_LP(**row) for row in data]\n",
    "\n",
    "print(hp_lp_objects)\n",
    "# In thông tin từ các đối tượng HP_LP\n",
    "for hp_lp in hp_lp_objects:\n",
    "    print(f'id_hp: {hp_lp.id_hp}, id_lp: {hp_lp.id_lp}')"
   ]
  },
  {
   "cell_type": "code",
   "execution_count": null,
   "metadata": {},
   "outputs": [],
   "source": [
    "connect.cursor.execute(\"\"\"SELECT id FROM GiangVien\"\"\")\n",
    "data = connect.cursor.fetchall()\n",
    "print(data)\n"
   ]
  },
  {
   "cell_type": "code",
   "execution_count": null,
   "metadata": {},
   "outputs": [],
   "source": [
    "connect.cursor.execute(\"\"\"SELECT id FROM GiangVien\"\"\")\n",
    "print([item['id'] for item in connect.cursor.fetchall()])"
   ]
  },
  {
   "cell_type": "code",
   "execution_count": null,
   "metadata": {},
   "outputs": [],
   "source": [
    "connect.cursor.execute(\"\"\"SELECT * FROM PhongHoc\"\"\")\n",
    "print(connect.cursor.fetchall())"
   ]
  },
  {
   "cell_type": "code",
   "execution_count": 3,
   "metadata": {},
   "outputs": [
    {
     "name": "stdout",
     "output_type": "stream",
     "text": [
      "[{'id_hp': 'HIS1001'}, {'id_hp': 'MAT2317'}, {'id_hp': 'MAT3500'}, {'id_hp': 'PEC1008'}, {'id_hp': 'PHI1002'}, {'id_hp': 'PHI1006'}, {'id_hp': 'POL1001'}, {'id_hp': 'HIS1001'}, {'id_hp': 'MAT2317'}, {'id_hp': 'MAT3372'}, {'id_hp': 'MAT3500'}, {'id_hp': 'MAT3514'}, {'id_hp': 'MAT3557'}, {'id_hp': 'PEC1008'}, {'id_hp': 'PHI1002'}, {'id_hp': 'PHI1006'}, {'id_hp': 'POL1001'}, {'id_hp': 'HIS1001'}, {'id_hp': 'MAT2317'}, {'id_hp': 'PEC1008'}, {'id_hp': 'PHI1002'}, {'id_hp': 'PHI1006'}, {'id_hp': 'POL1001'}]\n"
     ]
    }
   ],
   "source": [
    "execute = f\"\"\"\n",
    "            SELECT id_hp FROM CTH_HP\n",
    "            WHERE hk_dx LIKE '1%'\n",
    "            \"\"\"\n",
    "connect.cursor.execute(execute)\n",
    "data = connect.cursor.fetchall()\n",
    "print(data)"
   ]
  }
 ],
 "metadata": {
  "kernelspec": {
   "display_name": "py",
   "language": "python",
   "name": "python3"
  },
  "language_info": {
   "codemirror_mode": {
    "name": "ipython",
    "version": 3
   },
   "file_extension": ".py",
   "mimetype": "text/x-python",
   "name": "python",
   "nbconvert_exporter": "python",
   "pygments_lexer": "ipython3",
   "version": "3.11.6"
  }
 },
 "nbformat": 4,
 "nbformat_minor": 2
}
