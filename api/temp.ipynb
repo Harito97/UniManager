{
 "cells": [
  {
   "cell_type": "code",
   "execution_count": 1,
   "metadata": {},
   "outputs": [],
   "source": [
    "from connect_db import ConnectDatabase"
   ]
  },
  {
   "cell_type": "code",
   "execution_count": 2,
   "metadata": {},
   "outputs": [],
   "source": [
    "connect = ConnectDatabase()"
   ]
  },
  {
   "cell_type": "code",
   "execution_count": 3,
   "metadata": {},
   "outputs": [
    {
     "name": "stdout",
     "output_type": "stream",
     "text": [
      "[{'id_hp': 'HIS1001', 'id_lp': 'LT'}, {'id_hp': 'MAT2317', 'id_lp': 'LT'}, {'id_hp': 'MAT2317', 'id_lp': 'PM'}, {'id_hp': 'MAT3148', 'id_lp': 'LT'}, {'id_hp': 'MAT3148', 'id_lp': 'PM'}, {'id_hp': 'MAT3372', 'id_lp': 'LT'}, {'id_hp': 'MAT3372', 'id_lp': 'PM'}, {'id_hp': 'MAT3378', 'id_lp': 'LT'}, {'id_hp': 'MAT3378', 'id_lp': 'PM'}, {'id_hp': 'MAT3379', 'id_lp': 'LT'}, {'id_hp': 'MAT3379', 'id_lp': 'PM'}, {'id_hp': 'MAT3500', 'id_lp': 'LT'}, {'id_hp': 'MAT3505', 'id_lp': 'LT'}, {'id_hp': 'MAT3505', 'id_lp': 'PM'}, {'id_hp': 'MAT3507', 'id_lp': 'LT'}, {'id_hp': 'MAT3507', 'id_lp': 'PM'}, {'id_hp': 'MAT3514', 'id_lp': 'LT'}, {'id_hp': 'MAT3514', 'id_lp': 'PM'}, {'id_hp': 'MAT3533', 'id_lp': 'LT'}, {'id_hp': 'MAT3533', 'id_lp': 'PM'}, {'id_hp': 'MAT3541E', 'id_lp': 'LT'}, {'id_hp': 'MAT3541E', 'id_lp': 'PM'}, {'id_hp': 'MAT3550E', 'id_lp': 'LT'}, {'id_hp': 'MAT3550E', 'id_lp': 'PM'}, {'id_hp': 'MAT3557', 'id_lp': 'LT'}, {'id_hp': 'MAT3557', 'id_lp': 'PM'}, {'id_hp': 'MAT3558', 'id_lp': 'LT'}, {'id_hp': 'MAT3558', 'id_lp': 'PM'}, {'id_hp': 'PEC1008', 'id_lp': 'LT'}, {'id_hp': 'PHI1002', 'id_lp': 'LT'}, {'id_hp': 'PHI1006', 'id_lp': 'LT'}, {'id_hp': 'POL1001', 'id_lp': 'LT'}]\n"
     ]
    }
   ],
   "source": [
    "connect.cursor.execute(\"\"\"SELECT * FROM HP_LP\"\"\")\n",
    "data = connect.cursor.fetchall()\n",
    "print(data)"
   ]
  },
  {
   "cell_type": "code",
   "execution_count": 4,
   "metadata": {},
   "outputs": [
    {
     "name": "stdout",
     "output_type": "stream",
     "text": [
      "[HP_LP(id_hp='HIS1001', id_lp='LT'), HP_LP(id_hp='MAT2317', id_lp='LT'), HP_LP(id_hp='MAT2317', id_lp='PM'), HP_LP(id_hp='MAT3148', id_lp='LT'), HP_LP(id_hp='MAT3148', id_lp='PM'), HP_LP(id_hp='MAT3372', id_lp='LT'), HP_LP(id_hp='MAT3372', id_lp='PM'), HP_LP(id_hp='MAT3378', id_lp='LT'), HP_LP(id_hp='MAT3378', id_lp='PM'), HP_LP(id_hp='MAT3379', id_lp='LT'), HP_LP(id_hp='MAT3379', id_lp='PM'), HP_LP(id_hp='MAT3500', id_lp='LT'), HP_LP(id_hp='MAT3505', id_lp='LT'), HP_LP(id_hp='MAT3505', id_lp='PM'), HP_LP(id_hp='MAT3507', id_lp='LT'), HP_LP(id_hp='MAT3507', id_lp='PM'), HP_LP(id_hp='MAT3514', id_lp='LT'), HP_LP(id_hp='MAT3514', id_lp='PM'), HP_LP(id_hp='MAT3533', id_lp='LT'), HP_LP(id_hp='MAT3533', id_lp='PM'), HP_LP(id_hp='MAT3541E', id_lp='LT'), HP_LP(id_hp='MAT3541E', id_lp='PM'), HP_LP(id_hp='MAT3550E', id_lp='LT'), HP_LP(id_hp='MAT3550E', id_lp='PM'), HP_LP(id_hp='MAT3557', id_lp='LT'), HP_LP(id_hp='MAT3557', id_lp='PM'), HP_LP(id_hp='MAT3558', id_lp='LT'), HP_LP(id_hp='MAT3558', id_lp='PM'), HP_LP(id_hp='PEC1008', id_lp='LT'), HP_LP(id_hp='PHI1002', id_lp='LT'), HP_LP(id_hp='PHI1006', id_lp='LT'), HP_LP(id_hp='POL1001', id_lp='LT')]\n",
      "id_hp: HIS1001, id_lp: LT\n",
      "id_hp: MAT2317, id_lp: LT\n",
      "id_hp: MAT2317, id_lp: PM\n",
      "id_hp: MAT3148, id_lp: LT\n",
      "id_hp: MAT3148, id_lp: PM\n",
      "id_hp: MAT3372, id_lp: LT\n",
      "id_hp: MAT3372, id_lp: PM\n",
      "id_hp: MAT3378, id_lp: LT\n",
      "id_hp: MAT3378, id_lp: PM\n",
      "id_hp: MAT3379, id_lp: LT\n",
      "id_hp: MAT3379, id_lp: PM\n",
      "id_hp: MAT3500, id_lp: LT\n",
      "id_hp: MAT3505, id_lp: LT\n",
      "id_hp: MAT3505, id_lp: PM\n",
      "id_hp: MAT3507, id_lp: LT\n",
      "id_hp: MAT3507, id_lp: PM\n",
      "id_hp: MAT3514, id_lp: LT\n",
      "id_hp: MAT3514, id_lp: PM\n",
      "id_hp: MAT3533, id_lp: LT\n",
      "id_hp: MAT3533, id_lp: PM\n",
      "id_hp: MAT3541E, id_lp: LT\n",
      "id_hp: MAT3541E, id_lp: PM\n",
      "id_hp: MAT3550E, id_lp: LT\n",
      "id_hp: MAT3550E, id_lp: PM\n",
      "id_hp: MAT3557, id_lp: LT\n",
      "id_hp: MAT3557, id_lp: PM\n",
      "id_hp: MAT3558, id_lp: LT\n",
      "id_hp: MAT3558, id_lp: PM\n",
      "id_hp: PEC1008, id_lp: LT\n",
      "id_hp: PHI1002, id_lp: LT\n",
      "id_hp: PHI1006, id_lp: LT\n",
      "id_hp: POL1001, id_lp: LT\n"
     ]
    }
   ],
   "source": [
    "from data_structure import * \n",
    "# Chuyển đổi dữ liệu thành các đối tượng HP_LP\n",
    "hp_lp_objects = [HP_LP(**row) for row in data]\n",
    "\n",
    "print(hp_lp_objects)\n",
    "# In thông tin từ các đối tượng HP_LP\n",
    "for hp_lp in hp_lp_objects:\n",
    "    print(f'id_hp: {hp_lp.id_hp}, id_lp: {hp_lp.id_lp}')"
   ]
  },
  {
   "cell_type": "code",
   "execution_count": 5,
   "metadata": {},
   "outputs": [
    {
     "name": "stdout",
     "output_type": "stream",
     "text": [
      "[{'id': 'gv_000.001'}, {'id': 'gv_000.002'}, {'id': 'gv_000.003'}, {'id': 'gv_000.004'}, {'id': 'gv_000.005'}, {'id': 'gv_000.006'}, {'id': 'gv_000.007'}, {'id': 'gv_000.008'}, {'id': 'gv_000.009'}, {'id': 'gv_000.010'}]\n"
     ]
    }
   ],
   "source": [
    "connect.cursor.execute(\"\"\"SELECT id FROM GiangVien\"\"\")\n",
    "data = connect.cursor.fetchall()\n",
    "print(data)\n"
   ]
  },
  {
   "cell_type": "code",
   "execution_count": 6,
   "metadata": {},
   "outputs": [
    {
     "name": "stdout",
     "output_type": "stream",
     "text": [
      "['gv_000.001', 'gv_000.002', 'gv_000.003', 'gv_000.004', 'gv_000.005', 'gv_000.006', 'gv_000.007', 'gv_000.008', 'gv_000.009', 'gv_000.010']\n"
     ]
    }
   ],
   "source": [
    "connect.cursor.execute(\"\"\"SELECT id FROM GiangVien\"\"\")\n",
    "print([item['id'] for item in connect.cursor.fetchall()])"
   ]
  },
  {
   "cell_type": "code",
   "execution_count": 7,
   "metadata": {},
   "outputs": [
    {
     "name": "stdout",
     "output_type": "stream",
     "text": [
      "[{'id': '101T5', 'id_loai_phong': 'LT', 'so_cho': 40}, {'id': '102T5', 'id_loai_phong': 'LT', 'so_cho': 40}, {'id': '103T5', 'id_loai_phong': 'LT', 'so_cho': 40}, {'id': '104T5', 'id_loai_phong': 'LT', 'so_cho': 40}, {'id': '105T5', 'id_loai_phong': 'LT', 'so_cho': 40}, {'id': '106T5', 'id_loai_phong': 'LT', 'so_cho': 40}, {'id': '107T5', 'id_loai_phong': 'LT', 'so_cho': 40}, {'id': '108T5', 'id_loai_phong': 'LT', 'so_cho': 40}, {'id': '109T5', 'id_loai_phong': 'LT', 'so_cho': 40}, {'id': '110T5', 'id_loai_phong': 'LT', 'so_cho': 40}, {'id': '201T5', 'id_loai_phong': 'LT', 'so_cho': 40}, {'id': '202T5', 'id_loai_phong': 'LT', 'so_cho': 40}, {'id': '203T5', 'id_loai_phong': 'LT', 'so_cho': 40}, {'id': '204T5', 'id_loai_phong': 'LT', 'so_cho': 40}, {'id': '205T5', 'id_loai_phong': 'LT', 'so_cho': 40}, {'id': '206T5', 'id_loai_phong': 'LT', 'so_cho': 40}, {'id': '207T5', 'id_loai_phong': 'LT', 'so_cho': 40}, {'id': '208T5', 'id_loai_phong': 'LT', 'so_cho': 40}, {'id': '209T5', 'id_loai_phong': 'LT', 'so_cho': 40}, {'id': '210T5', 'id_loai_phong': 'LT', 'so_cho': 40}, {'id': '301T5', 'id_loai_phong': 'LT', 'so_cho': 40}, {'id': '302T5', 'id_loai_phong': 'LT', 'so_cho': 40}, {'id': '303T5', 'id_loai_phong': 'LT', 'so_cho': 40}, {'id': '304T5', 'id_loai_phong': 'LT', 'so_cho': 40}, {'id': '305T5', 'id_loai_phong': 'LT', 'so_cho': 40}, {'id': '306T5', 'id_loai_phong': 'LT', 'so_cho': 40}, {'id': '307T5', 'id_loai_phong': 'LT', 'so_cho': 40}, {'id': '308T5', 'id_loai_phong': 'LT', 'so_cho': 40}, {'id': '309T5', 'id_loai_phong': 'LT', 'so_cho': 40}, {'id': '310T5', 'id_loai_phong': 'LT', 'so_cho': 40}, {'id': '401T5', 'id_loai_phong': 'LT', 'so_cho': 40}, {'id': '402T5', 'id_loai_phong': 'LT', 'so_cho': 40}, {'id': '403T5', 'id_loai_phong': 'LT', 'so_cho': 40}, {'id': '404T5', 'id_loai_phong': 'LT', 'so_cho': 40}, {'id': '405T5', 'id_loai_phong': 'LT', 'so_cho': 40}, {'id': '406T5', 'id_loai_phong': 'LT', 'so_cho': 40}, {'id': '407T5', 'id_loai_phong': 'LT', 'so_cho': 40}, {'id': '408T5', 'id_loai_phong': 'LT', 'so_cho': 40}, {'id': '409T5', 'id_loai_phong': 'LT', 'so_cho': 40}, {'id': '410T5', 'id_loai_phong': 'LT', 'so_cho': 40}, {'id': '501T5', 'id_loai_phong': 'PM', 'so_cho': 40}, {'id': '502T5', 'id_loai_phong': 'PM', 'so_cho': 40}, {'id': '503T5', 'id_loai_phong': 'PM', 'so_cho': 40}, {'id': '504T5', 'id_loai_phong': 'PM', 'so_cho': 40}, {'id': '505T5', 'id_loai_phong': 'PM', 'so_cho': 40}, {'id': '506T5', 'id_loai_phong': 'PM', 'so_cho': 40}, {'id': '507T5', 'id_loai_phong': 'PM', 'so_cho': 40}, {'id': '508T5', 'id_loai_phong': 'PM', 'so_cho': 40}, {'id': '509T5', 'id_loai_phong': 'PM', 'so_cho': 40}, {'id': '510T5', 'id_loai_phong': 'PM', 'so_cho': 40}, {'id': '601T5', 'id_loai_phong': 'LT', 'so_cho': 40}, {'id': '602T5', 'id_loai_phong': 'LT', 'so_cho': 40}, {'id': '603T5', 'id_loai_phong': 'LT', 'so_cho': 40}, {'id': '604T5', 'id_loai_phong': 'LT', 'so_cho': 40}, {'id': '605T5', 'id_loai_phong': 'LT', 'so_cho': 40}, {'id': '606T5', 'id_loai_phong': 'LT', 'so_cho': 40}, {'id': '607T5', 'id_loai_phong': 'LT', 'so_cho': 40}, {'id': '608T5', 'id_loai_phong': 'LT', 'so_cho': 40}, {'id': '609T5', 'id_loai_phong': 'LT', 'so_cho': 40}, {'id': '610T5', 'id_loai_phong': 'LT', 'so_cho': 40}]\n"
     ]
    }
   ],
   "source": [
    "connect.cursor.execute(\"\"\"SELECT * FROM PhongHoc\"\"\")\n",
    "print(connect.cursor.fetchall())"
   ]
  }
 ],
 "metadata": {
  "kernelspec": {
   "display_name": "py",
   "language": "python",
   "name": "python3"
  },
  "language_info": {
   "codemirror_mode": {
    "name": "ipython",
    "version": 3
   },
   "file_extension": ".py",
   "mimetype": "text/x-python",
   "name": "python",
   "nbconvert_exporter": "python",
   "pygments_lexer": "ipython3",
   "version": "3.11.6"
  }
 },
 "nbformat": 4,
 "nbformat_minor": 2
}
